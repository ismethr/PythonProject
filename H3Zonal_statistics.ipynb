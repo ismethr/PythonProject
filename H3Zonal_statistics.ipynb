{
 "cells": [
  {
   "cell_type": "code",
   "execution_count": 1,
   "id": "initial_id",
   "metadata": {
    "ExecuteTime": {
     "end_time": "2024-12-21T23:38:19.862231Z",
     "start_time": "2024-12-21T23:38:17.382889Z"
    }
   },
   "outputs": [],
   "source": [
    "import ee\n",
    "import geemap\n",
    "import os\n",
    "import numpy as np\n",
    "import geopandas as gpd\n",
    "from tobler.util import h3fy"
   ]
  },
  {
   "cell_type": "code",
   "execution_count": 2,
   "id": "4826dfc0-afd7-4879-8bd2-ef9bb3de94c9",
   "metadata": {},
   "outputs": [
    {
     "data": {
      "text/html": [
       "\n",
       "            <style>\n",
       "                .geemap-dark {\n",
       "                    --jp-widgets-color: white;\n",
       "                    --jp-widgets-label-color: white;\n",
       "                    --jp-ui-font-color1: white;\n",
       "                    --jp-layout-color2: #454545;\n",
       "                    background-color: #383838;\n",
       "                }\n",
       "\n",
       "                .geemap-dark .jupyter-button {\n",
       "                    --jp-layout-color3: #383838;\n",
       "                }\n",
       "\n",
       "                .geemap-colab {\n",
       "                    background-color: var(--colab-primary-surface-color, white);\n",
       "                }\n",
       "\n",
       "                .geemap-colab .jupyter-button {\n",
       "                    --jp-layout-color3: var(--colab-primary-surface-color, white);\n",
       "                }\n",
       "            </style>\n",
       "            "
      ],
      "text/plain": [
       "<IPython.core.display.HTML object>"
      ]
     },
     "metadata": {},
     "output_type": "display_data"
    },
    {
     "data": {
      "application/vnd.jupyter.widget-view+json": {
       "model_id": "386a13fd03f54320932070651d598f9a",
       "version_major": 2,
       "version_minor": 0
      },
      "text/plain": [
       "Map(center=[0, 0], controls=(WidgetControl(options=['position', 'transparent_bg'], widget=SearchDataGUI(childr…"
      ]
     },
     "execution_count": 2,
     "metadata": {},
     "output_type": "execute_result"
    }
   ],
   "source": [
    "Map = geemap.Map()\n",
    "Map"
   ]
  },
  {
   "cell_type": "code",
   "execution_count": 3,
   "id": "310020d9-ac3b-400b-a380-f31817999ca9",
   "metadata": {},
   "outputs": [
    {
     "data": {
      "text/html": [
       "\n",
       "            <style>\n",
       "                .geemap-dark {\n",
       "                    --jp-widgets-color: white;\n",
       "                    --jp-widgets-label-color: white;\n",
       "                    --jp-ui-font-color1: white;\n",
       "                    --jp-layout-color2: #454545;\n",
       "                    background-color: #383838;\n",
       "                }\n",
       "\n",
       "                .geemap-dark .jupyter-button {\n",
       "                    --jp-layout-color3: #383838;\n",
       "                }\n",
       "\n",
       "                .geemap-colab {\n",
       "                    background-color: var(--colab-primary-surface-color, white);\n",
       "                }\n",
       "\n",
       "                .geemap-colab .jupyter-button {\n",
       "                    --jp-layout-color3: var(--colab-primary-surface-color, white);\n",
       "                }\n",
       "            </style>\n",
       "            "
      ],
      "text/plain": [
       "<IPython.core.display.HTML object>"
      ]
     },
     "metadata": {},
     "output_type": "display_data"
    }
   ],
   "source": [
    "srcFolder = 'projects/lulc-datase/assets/LULC_HuangXin/'\n",
    "year = '2023'\n",
    "imgCLCD = ee.Image(f\"{srcFolder}CLCD_v01_{year}\")"
   ]
  },
  {
   "cell_type": "code",
   "execution_count": 4,
   "id": "a6b252c5-0380-4038-a1e2-d9136429f57a",
   "metadata": {},
   "outputs": [
    {
     "data": {
      "text/html": [
       "\n",
       "            <style>\n",
       "                .geemap-dark {\n",
       "                    --jp-widgets-color: white;\n",
       "                    --jp-widgets-label-color: white;\n",
       "                    --jp-ui-font-color1: white;\n",
       "                    --jp-layout-color2: #454545;\n",
       "                    background-color: #383838;\n",
       "                }\n",
       "\n",
       "                .geemap-dark .jupyter-button {\n",
       "                    --jp-layout-color3: #383838;\n",
       "                }\n",
       "\n",
       "                .geemap-colab {\n",
       "                    background-color: var(--colab-primary-surface-color, white);\n",
       "                }\n",
       "\n",
       "                .geemap-colab .jupyter-button {\n",
       "                    --jp-layout-color3: var(--colab-primary-surface-color, white);\n",
       "                }\n",
       "            </style>\n",
       "            "
      ],
      "text/plain": [
       "<IPython.core.display.HTML object>"
      ]
     },
     "metadata": {},
     "output_type": "display_data"
    }
   ],
   "source": [
    "# 可视化参数\n",
    "vis_params = {\n",
    "    \"min\": 1,\n",
    "    \"max\": 9,\n",
    "    \"palette\": ['98ff00', '009900', '0000ff', 'ff0000', 'ffff00', \n",
    "                'd9d9d9', '7cfc00', 'd2691e', '8b4513']\n",
    "}\n",
    "\n",
    "# 显示影像\n",
    "Map.addLayer(imgCLCD, vis_params, f'CLCD {year}')\n",
    "Map.centerObject(imgCLCD, 6)"
   ]
  },
  {
   "cell_type": "code",
   "execution_count": 5,
   "id": "8446a3cf-5e72-4c14-ad25-d97ec05adbe1",
   "metadata": {},
   "outputs": [
    {
     "data": {
      "text/html": [
       "\n",
       "            <style>\n",
       "                .geemap-dark {\n",
       "                    --jp-widgets-color: white;\n",
       "                    --jp-widgets-label-color: white;\n",
       "                    --jp-ui-font-color1: white;\n",
       "                    --jp-layout-color2: #454545;\n",
       "                    background-color: #383838;\n",
       "                }\n",
       "\n",
       "                .geemap-dark .jupyter-button {\n",
       "                    --jp-layout-color3: #383838;\n",
       "                }\n",
       "\n",
       "                .geemap-colab {\n",
       "                    background-color: var(--colab-primary-surface-color, white);\n",
       "                }\n",
       "\n",
       "                .geemap-colab .jupyter-button {\n",
       "                    --jp-layout-color3: var(--colab-primary-surface-color, white);\n",
       "                }\n",
       "            </style>\n",
       "            "
      ],
      "text/plain": [
       "<IPython.core.display.HTML object>"
      ]
     },
     "metadata": {},
     "output_type": "display_data"
    }
   ],
   "source": [
    "out_dir = os.path.expanduser(\"~/Downloads\")\n",
    "out_stats = os.path.join(out_dir, f'CLCD_{year}_area_stats.csv')"
   ]
  },
  {
   "cell_type": "code",
   "execution_count": 8,
   "id": "a10cef0a-0991-4b40-93c5-6e626ef3440c",
   "metadata": {},
   "outputs": [
    {
     "data": {
      "text/html": [
       "\n",
       "            <style>\n",
       "                .geemap-dark {\n",
       "                    --jp-widgets-color: white;\n",
       "                    --jp-widgets-label-color: white;\n",
       "                    --jp-ui-font-color1: white;\n",
       "                    --jp-layout-color2: #454545;\n",
       "                    background-color: #383838;\n",
       "                }\n",
       "\n",
       "                .geemap-dark .jupyter-button {\n",
       "                    --jp-layout-color3: #383838;\n",
       "                }\n",
       "\n",
       "                .geemap-colab {\n",
       "                    background-color: var(--colab-primary-surface-color, white);\n",
       "                }\n",
       "\n",
       "                .geemap-colab .jupyter-button {\n",
       "                    --jp-layout-color3: var(--colab-primary-surface-color, white);\n",
       "                }\n",
       "            </style>\n",
       "            "
      ],
      "text/plain": [
       "<IPython.core.display.HTML object>"
      ]
     },
     "metadata": {},
     "output_type": "display_data"
    }
   ],
   "source": [
    "# 指定本地 Shapefile 文件的路径\n",
    "shapefile_path = \"shape/YN.shp\"  # 替换为你的 Shapefile 文件路径\n",
    "\n",
    "# 读取 Shapefile 文件并转换为 GeoDataFrame\n",
    "gdf = gpd.read_file(shapefile_path)\n",
    "\n",
    "# 确保坐标参考系统（CRS）为 EPSG:4326（如果不是，则进行转换）\n",
    "if gdf.crs != \"EPSG:4326\":\n",
    "    gdf = gdf.to_crs(\"EPSG:4326\")\n",
    "\n",
    "hexgrid_us = h3fy(gdf.buffer(0.01), resolution=6).reset_index()"
   ]
  },
  {
   "cell_type": "code",
   "execution_count": 9,
   "id": "4dfcd647-c21d-4b48-bd87-347e99455fbf",
   "metadata": {},
   "outputs": [
    {
     "data": {
      "text/html": [
       "\n",
       "            <style>\n",
       "                .geemap-dark {\n",
       "                    --jp-widgets-color: white;\n",
       "                    --jp-widgets-label-color: white;\n",
       "                    --jp-ui-font-color1: white;\n",
       "                    --jp-layout-color2: #454545;\n",
       "                    background-color: #383838;\n",
       "                }\n",
       "\n",
       "                .geemap-dark .jupyter-button {\n",
       "                    --jp-layout-color3: #383838;\n",
       "                }\n",
       "\n",
       "                .geemap-colab {\n",
       "                    background-color: var(--colab-primary-surface-color, white);\n",
       "                }\n",
       "\n",
       "                .geemap-colab .jupyter-button {\n",
       "                    --jp-layout-color3: var(--colab-primary-surface-color, white);\n",
       "                }\n",
       "            </style>\n",
       "            "
      ],
      "text/plain": [
       "<IPython.core.display.HTML object>"
      ]
     },
     "metadata": {},
     "output_type": "display_data"
    }
   ],
   "source": [
    "hexgrid_us['longitude'] = hexgrid_us['geometry'].apply(lambda x: x.centroid.coords.xy[0][0])\n",
    "hexgrid_us['latitude'] = hexgrid_us['geometry'].apply(lambda x: x.centroid.coords.xy[1][0])\n",
    "hexgrid_us = hexgrid_us[(hexgrid_us['longitude'].between(96, 108)) & (hexgrid_us['latitude'].between(20, 30))][['hex_id', 'geometry']]\n",
    "# Create an earth engine feature from a shapely geometry\n",
    "def get_ee_feature(geom):\n",
    "    x,y = geom.exterior.coords.xy\n",
    "    coords = np.dstack((x,y)).tolist()\n",
    "    g = ee.Geometry.Polygon(coords)\n",
    "    return ee.Feature(g)\n",
    "\n",
    "features = ee.FeatureCollection([get_ee_feature(x[1].geometry) for x in hexgrid_us.iterrows()])"
   ]
  },
  {
   "cell_type": "code",
   "execution_count": 21,
   "id": "d2ab7e8d-07bd-43fb-af96-68ea122f7d57",
   "metadata": {},
   "outputs": [
    {
     "data": {
      "text/html": [
       "\n",
       "            <style>\n",
       "                .geemap-dark {\n",
       "                    --jp-widgets-color: white;\n",
       "                    --jp-widgets-label-color: white;\n",
       "                    --jp-ui-font-color1: white;\n",
       "                    --jp-layout-color2: #454545;\n",
       "                    background-color: #383838;\n",
       "                }\n",
       "\n",
       "                .geemap-dark .jupyter-button {\n",
       "                    --jp-layout-color3: #383838;\n",
       "                }\n",
       "\n",
       "                .geemap-colab {\n",
       "                    background-color: var(--colab-primary-surface-color, white);\n",
       "                }\n",
       "\n",
       "                .geemap-colab .jupyter-button {\n",
       "                    --jp-layout-color3: var(--colab-primary-surface-color, white);\n",
       "                }\n",
       "            </style>\n",
       "            "
      ],
      "text/plain": [
       "<IPython.core.display.HTML object>"
      ]
     },
     "metadata": {},
     "output_type": "display_data"
    },
    {
     "name": "stdout",
     "output_type": "stream",
     "text": [
      "Computing ... \n",
      "Generating URL ...\n",
      "Downloading data from https://earthengine.googleapis.com/v1/projects/earthengine-legacy/tables/c1ceaa0fa46d8f591e085f6f1c62eb58-9396a4f8d04a11c5a04320d978ac8ac3:getFeatures\n",
      "Please wait ...\n",
      "Data downloaded to /Users/wendao/Downloads/CLCD_2023_area_stats.csv\n"
     ]
    }
   ],
   "source": [
    "geemap.zonal_stats_by_group(\n",
    "    imgCLCD,  # 栅格数据\n",
    "    features,    # 区域分区矢量数据\n",
    "    out_stats,  # 输出文件路径\n",
    "    stat_type='SUM',  # 计算总和\n",
    "    decimal_places=2,  # 分辨率\n",
    "    denominator=10000  # 转换为公顷（1公顷 = 10000平方米）\n",
    ")\n"
   ]
  },
  {
   "cell_type": "code",
   "execution_count": 15,
   "id": "d270ea0d-4727-487e-b44e-1b7fb7195d60",
   "metadata": {
    "ExecuteTime": {
     "end_time": "2024-12-19T14:14:07.378162Z",
     "start_time": "2024-12-19T14:14:07.259871Z"
    }
   },
   "outputs": [
    {
     "data": {
      "text/html": [
       "\n",
       "            <style>\n",
       "                .geemap-dark {\n",
       "                    --jp-widgets-color: white;\n",
       "                    --jp-widgets-label-color: white;\n",
       "                    --jp-ui-font-color1: white;\n",
       "                    --jp-layout-color2: #454545;\n",
       "                    background-color: #383838;\n",
       "                }\n",
       "\n",
       "                .geemap-dark .jupyter-button {\n",
       "                    --jp-layout-color3: #383838;\n",
       "                }\n",
       "\n",
       "                .geemap-colab {\n",
       "                    background-color: var(--colab-primary-surface-color, white);\n",
       "                }\n",
       "\n",
       "                .geemap-colab .jupyter-button {\n",
       "                    --jp-layout-color3: var(--colab-primary-surface-color, white);\n",
       "                }\n",
       "            </style>\n",
       "            "
      ],
      "text/plain": [
       "<IPython.core.display.HTML object>"
      ]
     },
     "metadata": {},
     "output_type": "display_data"
    },
    {
     "name": "stdout",
     "output_type": "stream",
     "text": [
      "FeatureCollection 中包含 29 个多边形\n",
      "{'type': 'Feature', 'geometry': {'type': 'Polygon', 'coordinates': [[[104.70189008444295, 22.542694068343856], [105.2151850920572, 22.966722567256305], [105.05330118978007, 23.593646224635275], [104.37474618831637, 23.79816102097913], [103.8591385223553, 23.374447921184416], [104.0243688935163, 22.745922836449818], [104.70189008444295, 22.542694068343856]]]}, 'id': '0', 'properties': {'hex_id': '83415bfffffffff'}}\n"
     ]
    }
   ],
   "source": [
    "# 1. 读取 Shapefile 文件并检查 CRS\n",
    "shapefile_path = \"shape/YN.shp\"  # 替换为你的实际文件路径\n",
    "gdf = gpd.read_file(shapefile_path)\n",
    "\n",
    "# 如果 CRS 不是 EPSG:4326，则转换\n",
    "if gdf.crs != \"EPSG:4326\":\n",
    "    gdf = gdf.to_crs(\"EPSG:4326\")\n",
    "\n",
    "# 2. 转换为 H3 格网\n",
    "resolution = 3  # H3 格网分辨率\n",
    "hexgrid = h3fy(gdf, resolution=resolution).reset_index()\n",
    "\n",
    "# 计算中心点经纬度\n",
    "hexgrid['longitude'] = hexgrid['geometry'].apply(lambda x: x.centroid.x)\n",
    "hexgrid['latitude'] = hexgrid['geometry'].apply(lambda x: x.centroid.y)\n",
    "\n",
    "# 过滤感兴趣区域（云南经纬度范围）\n",
    "hexgrid_filtered = hexgrid[\n",
    "    (hexgrid['longitude'].between(96, 108)) & \n",
    "    (hexgrid['latitude'].between(20, 30))\n",
    "][['hex_id', 'geometry']]\n",
    "\n",
    "# 3. 将 H3 格网转换为 Earth Engine FeatureCollection，并保留 hex_id 属性\n",
    "def get_ee_feature(row):\n",
    "    \"\"\"\n",
    "    将每一行的 Polygon 转换为 Earth Engine 的 Feature，附加 hex_id 属性。\n",
    "    \"\"\"\n",
    "    geom = row.geometry\n",
    "    x, y = geom.exterior.coords.xy\n",
    "    coords = np.dstack((x, y)).tolist()  # 将坐标转换为嵌套列表\n",
    "    g = ee.Geometry.Polygon(coords)\n",
    "    return ee.Feature(g).set('hex_id', row.hex_id)\n",
    "\n",
    "# 将过滤后的格网转换为 EE FeatureCollection\n",
    "features = ee.FeatureCollection([\n",
    "    get_ee_feature(row) for _, row in hexgrid_filtered.iterrows()\n",
    "])\n",
    "\n",
    "# 4. 打印结果或添加到地图\n",
    "print(f\"FeatureCollection 中包含 {features.size().getInfo()} 个多边形\")\n",
    "\n",
    "# 示例：查看第一个 Feature 的属性\n",
    "print(features.first().getInfo())"
   ]
  },
  {
   "cell_type": "code",
   "execution_count": 16,
   "id": "ac23d4f4-1ae7-455e-bcab-8e0d17fed03b",
   "metadata": {},
   "outputs": [
    {
     "data": {
      "text/html": [
       "\n",
       "            <style>\n",
       "                .geemap-dark {\n",
       "                    --jp-widgets-color: white;\n",
       "                    --jp-widgets-label-color: white;\n",
       "                    --jp-ui-font-color1: white;\n",
       "                    --jp-layout-color2: #454545;\n",
       "                    background-color: #383838;\n",
       "                }\n",
       "\n",
       "                .geemap-dark .jupyter-button {\n",
       "                    --jp-layout-color3: #383838;\n",
       "                }\n",
       "\n",
       "                .geemap-colab {\n",
       "                    background-color: var(--colab-primary-surface-color, white);\n",
       "                }\n",
       "\n",
       "                .geemap-colab .jupyter-button {\n",
       "                    --jp-layout-color3: var(--colab-primary-surface-color, white);\n",
       "                }\n",
       "            </style>\n",
       "            "
      ],
      "text/plain": [
       "<IPython.core.display.HTML object>"
      ]
     },
     "metadata": {},
     "output_type": "display_data"
    }
   ],
   "source": [
    "Map.addLayer(features)"
   ]
  },
  {
   "cell_type": "code",
   "execution_count": 11,
   "id": "a3de4e1c-7c1d-4e1a-96c5-d01effdde3ab",
   "metadata": {},
   "outputs": [
    {
     "data": {
      "text/html": [
       "\n",
       "            <style>\n",
       "                .geemap-dark {\n",
       "                    --jp-widgets-color: white;\n",
       "                    --jp-widgets-label-color: white;\n",
       "                    --jp-ui-font-color1: white;\n",
       "                    --jp-layout-color2: #454545;\n",
       "                    background-color: #383838;\n",
       "                }\n",
       "\n",
       "                .geemap-dark .jupyter-button {\n",
       "                    --jp-layout-color3: #383838;\n",
       "                }\n",
       "\n",
       "                .geemap-colab {\n",
       "                    background-color: var(--colab-primary-surface-color, white);\n",
       "                }\n",
       "\n",
       "                .geemap-colab .jupyter-button {\n",
       "                    --jp-layout-color3: var(--colab-primary-surface-color, white);\n",
       "                }\n",
       "            </style>\n",
       "            "
      ],
      "text/plain": [
       "<IPython.core.display.HTML object>"
      ]
     },
     "metadata": {},
     "output_type": "display_data"
    },
    {
     "name": "stdout",
     "output_type": "stream",
     "text": [
      "Computing ... \n",
      "Generating URL ...\n",
      "Downloading data from https://earthengine.googleapis.com/v1/projects/earthengine-legacy/tables/4b6698a09aeafe876bcd3f2f309fd64d-a4dcc5284ad11cc84a19a14737851989:getFeatures\n",
      "Please wait ...\n",
      "Data downloaded to /Users/wendao/Downloads/CLCD_2023_area_stats.csv\n"
     ]
    }
   ],
   "source": [
    "geemap.zonal_stats_by_group(\n",
    "    imgCLCD,  # 栅格数据\n",
    "    features,    # 区域分区矢量数据\n",
    "    out_stats,  # 输出文件路径\n",
    "    stat_type='SUM',  # 计算总和\n",
    "    decimal_places=2,  # 分辨率\n",
    "    denominator=10000  # 转换为公顷（1公顷 = 10000平方米）\n",
    ")\n"
   ]
  },
  {
   "cell_type": "code",
   "execution_count": null,
   "id": "a4d8636c-71cc-4b17-84b7-c6f18c7eaac5",
   "metadata": {},
   "outputs": [],
   "source": []
  }
 ],
 "metadata": {
  "kernelspec": {
   "display_name": "Python 3 (ipykernel)",
   "language": "python",
   "name": "python3"
  },
  "language_info": {
   "codemirror_mode": {
    "name": "ipython",
    "version": 3
   },
   "file_extension": ".py",
   "mimetype": "text/x-python",
   "name": "python",
   "nbconvert_exporter": "python",
   "pygments_lexer": "ipython3",
   "version": "3.13.1"
  }
 },
 "nbformat": 4,
 "nbformat_minor": 5
}
