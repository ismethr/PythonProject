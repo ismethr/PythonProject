{
 "cells": [
  {
   "cell_type": "code",
   "id": "initial_id",
   "metadata": {
    "collapsed": true,
    "ExecuteTime": {
     "end_time": "2024-12-22T12:38:51.455675Z",
     "start_time": "2024-12-22T12:38:51.375010Z"
    }
   },
   "source": [
    "import geopandas as gpd\n",
    "import rasterio\n",
    "from rasterstats import zonal_stats\n",
    "import h3\n",
    "import pandas as pd\n",
    "import shapely.geometry\n",
    "import numpy as np\n",
    "from tobler.util import h3fy\n",
    "from ipyleaflet import Map, GeoJSON"
   ],
   "outputs": [],
   "execution_count": 19
  },
  {
   "metadata": {
    "ExecuteTime": {
     "end_time": "2024-12-22T12:10:04.497603Z",
     "start_time": "2024-12-22T12:10:04.495094Z"
    }
   },
   "cell_type": "code",
   "source": [
    "# 输入文件路径\n",
    "shapefile_path = \"shape/YN.shp\"  # ROI Shapefile\n",
    "tif_path = \"tif/CLCD_v01_2023_albert_yunnan.tif\"  # 分类图像路径\n",
    "output_csv = \"h3_zonal_stats_local.csv\"  # 输出结果文件\n"
   ],
   "id": "40debe2893d57e0a",
   "outputs": [],
   "execution_count": 3
  },
  {
   "metadata": {
    "ExecuteTime": {
     "end_time": "2024-12-22T12:11:28.683033Z",
     "start_time": "2024-12-22T12:11:28.309058Z"
    }
   },
   "cell_type": "code",
   "source": [
    "# 加载 Shapefile\n",
    "gdf = gpd.read_file(shapefile_path)\n",
    "# 确保 CRS 为 WGS84\n",
    "if gdf.crs != \"EPSG:4326\":\n",
    "    gdf = gdf.to_crs(\"EPSG:4326\")\n",
    "# 获取云南边界\n",
    "gdf.plot()"
   ],
   "id": "b2839647d883d2eb",
   "outputs": [
    {
     "data": {
      "text/plain": [
       "<Axes: >"
      ]
     },
     "execution_count": 13,
     "metadata": {},
     "output_type": "execute_result"
    },
    {
     "data": {
      "text/plain": [
       "<Figure size 640x480 with 1 Axes>"
      ],
      "image/png": "[encoded data removed]"
     },
     "metadata": {},
     "output_type": "display_data"
    }
   ],
   "execution_count": 13
  },
  {
   "metadata": {
    "ExecuteTime": {
     "end_time": "2024-12-22T13:20:24.560936Z",
     "start_time": "2024-12-22T13:20:24.433877Z"
    }
   },
   "cell_type": "code",
   "source": [
    "# 2. 转换为 H3 格网\n",
    "resolution = 3  # H3 格网分辨率\n",
    "hexgrid_4 = h3fy(gdf.buffer(0.5), resolution=resolution).reset_index()\n",
    "\n",
    "# 计算中心点经纬度\n",
    "hexgrid_4['longitude'] = hexgrid_4['geometry'].apply(lambda x: x.centroid.x)\n",
    "hexgrid_4['latitude'] = hexgrid_4['geometry'].apply(lambda x: x.centroid.y)\n",
    "\n",
    "# 过滤感兴趣区域（云南经纬度范围）\n",
    "hexgrid_4 = hexgrid_4[\n",
    "    (hexgrid_4['longitude'].between(96, 108)) &\n",
    "    (hexgrid_4['latitude'].between(20, 30))\n",
    "][['hex_id', 'geometry']]\n",
    "\n",
    "\n"
   ],
   "id": "55111477e2be0099",
   "outputs": [
    {
     "name": "stderr",
     "output_type": "stream",
     "text": [
      "C:\\Users\\ismet\\AppData\\Local\\Temp\\ipykernel_19052\\2695305364.py:3: UserWarning: Geometry is in a geographic CRS. Results from 'buffer' are likely incorrect. Use 'GeoSeries.to_crs()' to re-project geometries to a projected CRS before this operation.\n",
      "\n",
      "  hexgrid_4 = h3fy(gdf.buffer(0.5), resolution=resolution).reset_index()\n"
     ]
    }
   ],
   "execution_count": 23
  },
  {
   "metadata": {},
   "cell_type": "markdown",
   "source": "",
   "id": "8c58f8a0517106c3"
  },
  {
   "metadata": {
    "ExecuteTime": {
     "end_time": "2024-12-22T13:20:27.313773Z",
     "start_time": "2024-12-22T13:20:27.299359Z"
    }
   },
   "cell_type": "code",
   "source": [
    "m = Map(center = [23.7, 102.8], zoom = 6 )\n",
    "geojson = GeoJSON(data=hexgrid_4.__geo_interface__)\n",
    "m.add_layer(geojson)\n",
    "m"
   ],
   "id": "288ec1d265e3e072",
   "outputs": [
    {
     "data": {
      "text/plain": [
       "Map(center=[23.7, 102.8], controls=(ZoomControl(options=['position', 'zoom_in_text', 'zoom_in_title', 'zoom_ou…"
      ],
      "application/vnd.jupyter.widget-view+json": {
       "version_major": 2,
       "version_minor": 0,
       "model_id": "05b8be85f17d4ddab441948e088c8a3c"
      }
     },
     "execution_count": 24,
     "metadata": {},
     "output_type": "execute_result"
    }
   ],
   "execution_count": 24
  },
  {
   "metadata": {
    "ExecuteTime": {
     "end_time": "2024-12-22T13:22:08.092750Z",
     "start_time": "2024-12-22T13:22:07.169275Z"
    }
   },
   "cell_type": "code",
   "source": [
    "zonal_stats_result = []\n",
    "resolution_10 = 4\n",
    "\n",
    "with rasterio.open(tif_path) as src:\n",
    "    print(src.nodata)\n",
    "    for index, row in hexgrid_4.iterrows():\n",
    "        hex_id = row['hex_id']\n",
    "        hex_geom = row['geometry']\n",
    "\n",
    "         # 使用 h3fy 生成 10 级 H3 格网\n",
    "        hexgrid_10 = h3fy(gpd.GeoDataFrame({'geometry': [hex_geom]}, crs=\"EPSG:4326\"), resolution=resolution_10).reset_index()\n",
    "        print(f\"Processing Hexgrid 4 with hex_id: {hex_id}, containing {len(hexgrid_10)} hexes\")\n",
    "        for _, h_row in hexgrid_10.iterrows():\n",
    "            geom = h_row['geometry']\n",
    "            stats = zonal_stats(\n",
    "                vectors=[geom],\n",
    "                raster=src.read(1),  # 分类图像的第一个波段\n",
    "                affine=src.transform,\n",
    "                stats=\"sum\",\n",
    "                categorical=True,\n",
    "                geojson_out=False\n",
    "            )\n",
    "            if stats:\n",
    "                for class_value, area in stats[0].items():\n",
    "                    zonal_stats_result.append({\n",
    "                        'hex_id_3': hex_id,\n",
    "                        'hex_id_10': h_row['hex_id'],\n",
    "                        'class': class_value,\n",
    "                        'area': area\n",
    "                    })\n",
    "\n",
    "result_df = pd.DataFrame(zonal_stats_result)\n",
    "result_df.to_csv(output_csv, index=False)\n",
    "\n",
    "print(f\"分析完成，结果已保存为 {output_csv}\")\n",
    "\n"
   ],
   "id": "369600b55e764573",
   "outputs": [
    {
     "name": "stdout",
     "output_type": "stream",
     "text": [
      "0.0\n",
      "Processing Hexgrid 4 with hex_id: 834009fffffffff, containing 7 hexes\n"
     ]
    },
    {
     "ename": "OverflowError",
     "evalue": "Python integer -999 out of bounds for uint8",
     "output_type": "error",
     "traceback": [
      "\u001B[1;31m---------------------------------------------------------------------------\u001B[0m",
      "\u001B[1;31mOverflowError\u001B[0m                             Traceback (most recent call last)",
      "Cell \u001B[1;32mIn[26], line 15\u001B[0m\n\u001B[0;32m     13\u001B[0m \u001B[38;5;28;01mfor\u001B[39;00m _, h_row \u001B[38;5;129;01min\u001B[39;00m hexgrid_10\u001B[38;5;241m.\u001B[39miterrows():\n\u001B[0;32m     14\u001B[0m     geom \u001B[38;5;241m=\u001B[39m h_row[\u001B[38;5;124m'\u001B[39m\u001B[38;5;124mgeometry\u001B[39m\u001B[38;5;124m'\u001B[39m]\n\u001B[1;32m---> 15\u001B[0m     stats \u001B[38;5;241m=\u001B[39m \u001B[43mzonal_stats\u001B[49m\u001B[43m(\u001B[49m\n\u001B[0;32m     16\u001B[0m \u001B[43m        \u001B[49m\u001B[43mvectors\u001B[49m\u001B[38;5;241;43m=\u001B[39;49m\u001B[43m[\u001B[49m\u001B[43mgeom\u001B[49m\u001B[43m]\u001B[49m\u001B[43m,\u001B[49m\n\u001B[0;32m     17\u001B[0m \u001B[43m        \u001B[49m\u001B[43mraster\u001B[49m\u001B[38;5;241;43m=\u001B[39;49m\u001B[43msrc\u001B[49m\u001B[38;5;241;43m.\u001B[39;49m\u001B[43mread\u001B[49m\u001B[43m(\u001B[49m\u001B[38;5;241;43m1\u001B[39;49m\u001B[43m)\u001B[49m\u001B[43m,\u001B[49m\u001B[43m  \u001B[49m\u001B[38;5;66;43;03m# 分类图像的第一个波段\u001B[39;49;00m\n\u001B[0;32m     18\u001B[0m \u001B[43m        \u001B[49m\u001B[43maffine\u001B[49m\u001B[38;5;241;43m=\u001B[39;49m\u001B[43msrc\u001B[49m\u001B[38;5;241;43m.\u001B[39;49m\u001B[43mtransform\u001B[49m\u001B[43m,\u001B[49m\n\u001B[0;32m     19\u001B[0m \u001B[43m        \u001B[49m\u001B[43mstats\u001B[49m\u001B[38;5;241;43m=\u001B[39;49m\u001B[38;5;124;43m\"\u001B[39;49m\u001B[38;5;124;43msum\u001B[39;49m\u001B[38;5;124;43m\"\u001B[39;49m\u001B[43m,\u001B[49m\n\u001B[0;32m     20\u001B[0m \u001B[43m        \u001B[49m\u001B[43mcategorical\u001B[49m\u001B[38;5;241;43m=\u001B[39;49m\u001B[38;5;28;43;01mTrue\u001B[39;49;00m\u001B[43m,\u001B[49m\n\u001B[0;32m     21\u001B[0m \u001B[43m        \u001B[49m\u001B[43mgeojson_out\u001B[49m\u001B[38;5;241;43m=\u001B[39;49m\u001B[38;5;28;43;01mFalse\u001B[39;49;00m\n\u001B[0;32m     22\u001B[0m \u001B[43m    \u001B[49m\u001B[43m)\u001B[49m\n\u001B[0;32m     23\u001B[0m     \u001B[38;5;28;01mif\u001B[39;00m stats:\n\u001B[0;32m     24\u001B[0m         \u001B[38;5;28;01mfor\u001B[39;00m class_value, area \u001B[38;5;129;01min\u001B[39;00m stats[\u001B[38;5;241m0\u001B[39m]\u001B[38;5;241m.\u001B[39mitems():\n",
      "File \u001B[1;32m~\\PycharmProjects\\PythonProject\\.venv\\Lib\\site-packages\\rasterstats\\main.py:52\u001B[0m, in \u001B[0;36mzonal_stats\u001B[1;34m(*args, **kwargs)\u001B[0m\n\u001B[0;32m     50\u001B[0m     \u001B[38;5;28;01mreturn\u001B[39;00m [stat \u001B[38;5;28;01mfor\u001B[39;00m stat \u001B[38;5;129;01min\u001B[39;00m tqdm(stats, total\u001B[38;5;241m=\u001B[39mtotal)]\n\u001B[0;32m     51\u001B[0m \u001B[38;5;28;01melse\u001B[39;00m:\n\u001B[1;32m---> 52\u001B[0m     \u001B[38;5;28;01mreturn\u001B[39;00m \u001B[38;5;28;43mlist\u001B[39;49m\u001B[43m(\u001B[49m\u001B[43mgen_zonal_stats\u001B[49m\u001B[43m(\u001B[49m\u001B[38;5;241;43m*\u001B[39;49m\u001B[43margs\u001B[49m\u001B[43m,\u001B[49m\u001B[43m \u001B[49m\u001B[38;5;241;43m*\u001B[39;49m\u001B[38;5;241;43m*\u001B[39;49m\u001B[43mkwargs\u001B[49m\u001B[43m)\u001B[49m\u001B[43m)\u001B[49m\n",
      "File \u001B[1;32m~\\PycharmProjects\\PythonProject\\.venv\\Lib\\site-packages\\rasterstats\\main.py:187\u001B[0m, in \u001B[0;36mgen_zonal_stats\u001B[1;34m(vectors, raster, layer, band, nodata, affine, stats, all_touched, categorical, category_map, add_stats, zone_func, raster_out, prefix, geojson_out, boundless, **kwargs)\u001B[0m\n\u001B[0;32m    183\u001B[0m     geom \u001B[38;5;241m=\u001B[39m boxify_points(geom, rast)\n\u001B[0;32m    185\u001B[0m geom_bounds \u001B[38;5;241m=\u001B[39m \u001B[38;5;28mtuple\u001B[39m(geom\u001B[38;5;241m.\u001B[39mbounds)\n\u001B[1;32m--> 187\u001B[0m fsrc \u001B[38;5;241m=\u001B[39m \u001B[43mrast\u001B[49m\u001B[38;5;241;43m.\u001B[39;49m\u001B[43mread\u001B[49m\u001B[43m(\u001B[49m\u001B[43mbounds\u001B[49m\u001B[38;5;241;43m=\u001B[39;49m\u001B[43mgeom_bounds\u001B[49m\u001B[43m,\u001B[49m\u001B[43m \u001B[49m\u001B[43mboundless\u001B[49m\u001B[38;5;241;43m=\u001B[39;49m\u001B[43mboundless\u001B[49m\u001B[43m)\u001B[49m\n\u001B[0;32m    189\u001B[0m \u001B[38;5;66;03m# rasterized geometry\u001B[39;00m\n\u001B[0;32m    190\u001B[0m rv_array \u001B[38;5;241m=\u001B[39m rasterize_geom(geom, like\u001B[38;5;241m=\u001B[39mfsrc, all_touched\u001B[38;5;241m=\u001B[39mall_touched)\n",
      "File \u001B[1;32m~\\PycharmProjects\\PythonProject\\.venv\\Lib\\site-packages\\rasterstats\\io.py:342\u001B[0m, in \u001B[0;36mRaster.read\u001B[1;34m(self, bounds, window, masked, boundless)\u001B[0m\n\u001B[0;32m    338\u001B[0m         already_warned_nodata \u001B[38;5;241m=\u001B[39m \u001B[38;5;28;01mTrue\u001B[39;00m\n\u001B[0;32m    340\u001B[0m \u001B[38;5;28;01mif\u001B[39;00m \u001B[38;5;28mself\u001B[39m\u001B[38;5;241m.\u001B[39marray \u001B[38;5;129;01mis\u001B[39;00m \u001B[38;5;129;01mnot\u001B[39;00m \u001B[38;5;28;01mNone\u001B[39;00m:\n\u001B[0;32m    341\u001B[0m     \u001B[38;5;66;03m# It's an ndarray already\u001B[39;00m\n\u001B[1;32m--> 342\u001B[0m     new_array \u001B[38;5;241m=\u001B[39m \u001B[43mboundless_array\u001B[49m\u001B[43m(\u001B[49m\n\u001B[0;32m    343\u001B[0m \u001B[43m        \u001B[49m\u001B[38;5;28;43mself\u001B[39;49m\u001B[38;5;241;43m.\u001B[39;49m\u001B[43marray\u001B[49m\u001B[43m,\u001B[49m\u001B[43m \u001B[49m\u001B[43mwindow\u001B[49m\u001B[38;5;241;43m=\u001B[39;49m\u001B[43mwin\u001B[49m\u001B[43m,\u001B[49m\u001B[43m \u001B[49m\u001B[43mnodata\u001B[49m\u001B[38;5;241;43m=\u001B[39;49m\u001B[43mnodata\u001B[49m\u001B[43m,\u001B[49m\u001B[43m \u001B[49m\u001B[43mmasked\u001B[49m\u001B[38;5;241;43m=\u001B[39;49m\u001B[43mmasked\u001B[49m\n\u001B[0;32m    344\u001B[0m \u001B[43m    \u001B[49m\u001B[43m)\u001B[49m\n\u001B[0;32m    345\u001B[0m \u001B[38;5;28;01melif\u001B[39;00m \u001B[38;5;28mself\u001B[39m\u001B[38;5;241m.\u001B[39msrc:\n\u001B[0;32m    346\u001B[0m     \u001B[38;5;66;03m# It's an open rasterio dataset\u001B[39;00m\n\u001B[0;32m    347\u001B[0m     \u001B[38;5;28;01mif\u001B[39;00m \u001B[38;5;28mall\u001B[39m(\n\u001B[0;32m    348\u001B[0m         MaskFlags\u001B[38;5;241m.\u001B[39mper_dataset \u001B[38;5;129;01min\u001B[39;00m flags \u001B[38;5;28;01mfor\u001B[39;00m flags \u001B[38;5;129;01min\u001B[39;00m \u001B[38;5;28mself\u001B[39m\u001B[38;5;241m.\u001B[39msrc\u001B[38;5;241m.\u001B[39mmask_flag_enums\n\u001B[0;32m    349\u001B[0m     ):\n",
      "File \u001B[1;32m~\\PycharmProjects\\PythonProject\\.venv\\Lib\\site-packages\\rasterstats\\io.py:200\u001B[0m, in \u001B[0;36mboundless_array\u001B[1;34m(arr, window, nodata, masked)\u001B[0m\n\u001B[0;32m    198\u001B[0m \u001B[38;5;66;03m# create an array of nodata values\u001B[39;00m\n\u001B[0;32m    199\u001B[0m out \u001B[38;5;241m=\u001B[39m np\u001B[38;5;241m.\u001B[39mempty(shape\u001B[38;5;241m=\u001B[39mwindow_shape, dtype\u001B[38;5;241m=\u001B[39marr\u001B[38;5;241m.\u001B[39mdtype)\n\u001B[1;32m--> 200\u001B[0m \u001B[43mout\u001B[49m\u001B[43m[\u001B[49m\u001B[43m:\u001B[49m\u001B[43m]\u001B[49m \u001B[38;5;241m=\u001B[39m nodata\n\u001B[0;32m    202\u001B[0m \u001B[38;5;66;03m# Fill with data where overlapping\u001B[39;00m\n\u001B[0;32m    203\u001B[0m nr_start \u001B[38;5;241m=\u001B[39m olr_start \u001B[38;5;241m-\u001B[39m wr_start\n",
      "\u001B[1;31mOverflowError\u001B[0m: Python integer -999 out of bounds for uint8"
     ]
    }
   ],
   "execution_count": 26
  }
 ],
 "metadata": {
  "kernelspec": {
   "display_name": "Python 3",
   "language": "python",
   "name": "python3"
  },
  "language_info": {
   "codemirror_mode": {
    "name": "ipython",
    "version": 2
   },
   "file_extension": ".py",
   "mimetype": "text/x-python",
   "name": "python",
   "nbconvert_exporter": "python",
   "pygments_lexer": "ipython2",
   "version": "2.7.6"
  }
 },
 "nbformat": 4,
 "nbformat_minor": 5
}
